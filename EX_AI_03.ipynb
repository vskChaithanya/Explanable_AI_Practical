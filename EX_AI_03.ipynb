{
  "nbformat": 4,
  "nbformat_minor": 0,
  "metadata": {
    "colab": {
      "provenance": [],
      "authorship_tag": "ABX9TyNDh1Uhnpjg/B8uBTamt2PY",
      "include_colab_link": true
    },
    "kernelspec": {
      "name": "python3",
      "display_name": "Python 3"
    },
    "language_info": {
      "name": "python"
    }
  },
  "cells": [
    {
      "cell_type": "markdown",
      "metadata": {
        "id": "view-in-github",
        "colab_type": "text"
      },
      "source": [
        "<a href=\"https://colab.research.google.com/github/vskChaithanya/Explanable_AI_Practical/blob/main/EX_AI_03.ipynb\" target=\"_parent\"><img src=\"https://colab.research.google.com/assets/colab-badge.svg\" alt=\"Open In Colab\"/></a>"
      ]
    },
    {
      "cell_type": "code",
      "source": [
        "import numpy as np\n",
        "from sklearn.linear_model import LinearRegression"
      ],
      "metadata": {
        "id": "XcR6DcWK2uZd"
      },
      "execution_count": 6,
      "outputs": []
    },
    {
      "cell_type": "code",
      "source": [
        "X_perturbed = np.array([\n",
        "    [0.3, 0.8],\n",
        "    [0.32, 0.78],\n",
        "    [0.28, 0.82],\n",
        "    [0.35, 0.75],\n",
        "    [0.25, 0.85]\n",
        "])"
      ],
      "metadata": {
        "id": "VS8cAoBdB8-M"
      },
      "execution_count": 7,
      "outputs": []
    },
    {
      "cell_type": "markdown",
      "source": [
        "#Added sum(I)\n"
      ],
      "metadata": {
        "id": "hnW4VHFnCXY-"
      }
    },
    {
      "cell_type": "code",
      "source": [
        "l_outputs = np.array([0.285, 0.308, 0.262, 0.338, 0.238])"
      ],
      "metadata": {
        "id": "qqVP7MjoB_VC"
      },
      "execution_count": 8,
      "outputs": []
    },
    {
      "cell_type": "markdown",
      "source": [
        "#Kernel Weights\n"
      ],
      "metadata": {
        "id": "gs1BmoqSChAz"
      }
    },
    {
      "cell_type": "code",
      "source": [
        "weights = np.array([1.0, 0.923, 0.923, 0.602, 0.602])"
      ],
      "metadata": {
        "id": "Ac-X6Ds7CgBH"
      },
      "execution_count": 9,
      "outputs": []
    },
    {
      "cell_type": "markdown",
      "source": [
        "#Linear Regression (surrogate)"
      ],
      "metadata": {
        "id": "wg-LxlKtCwqk"
      }
    },
    {
      "cell_type": "code",
      "source": [
        "lr = LinearRegression()\n",
        "lr.fit(X_perturbed, l_outputs, sample_weight=weights)\n",
        "\n",
        "print(\"Intercept (β₀):\", lr.intercept_)\n",
        "print(\"Fat_Score weight (β₁):\", lr.coef_[0])\n",
        "print(\"Salt_Score weight (β₂):\", lr.coef_[1])"
      ],
      "metadata": {
        "colab": {
          "base_uri": "https://localhost:8080/"
        },
        "id": "b13ZXfiUCwDL",
        "outputId": "c4ce3079-4568-4ca6-f904-142387096023"
      },
      "execution_count": 10,
      "outputs": [
        {
          "output_type": "stream",
          "name": "stdout",
          "text": [
            "Intercept (β₀): 0.5432790037033084\n",
            "Fat_Score weight (β₁): 0.5147743037029135\n",
            "Salt_Score weight (β₂): -0.5147743037029134\n"
          ]
        }
      ]
    }
  ]
}