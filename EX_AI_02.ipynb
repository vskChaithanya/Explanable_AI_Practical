{
  "nbformat": 4,
  "nbformat_minor": 0,
  "metadata": {
    "colab": {
      "provenance": [],
      "authorship_tag": "ABX9TyMLvUCiNELILr9Dq6pFaNDW",
      "include_colab_link": true
    },
    "kernelspec": {
      "name": "python3",
      "display_name": "Python 3"
    },
    "language_info": {
      "name": "python"
    }
  },
  "cells": [
    {
      "cell_type": "markdown",
      "metadata": {
        "id": "view-in-github",
        "colab_type": "text"
      },
      "source": [
        "<a href=\"https://colab.research.google.com/github/vskChaithanya/Explanable_AI_Practical/blob/main/EX_AI_02.ipynb\" target=\"_parent\"><img src=\"https://colab.research.google.com/assets/colab-badge.svg\" alt=\"Open In Colab\"/></a>"
      ]
    },
    {
      "cell_type": "code",
      "execution_count": null,
      "metadata": {
        "id": "7wu4Ruuk3ax_"
      },
      "outputs": [],
      "source": [
        "import numpy as np"
      ]
    },
    {
      "cell_type": "code",
      "source": [
        "x=np.array([\n",
        "    [0.4,0.5],\n",
        "    [0.3,0.8],\n",
        "    [0.2,0.9],\n",
        "    [0.1,0.1]\n",
        "])\n",
        "y=np.array([1,1,1,0])\n",
        "x0=1\n",
        "w0 = 0\n",
        "w1 = 1.2\n",
        "w2 = 0.6\n",
        "w = np.array([w0, w1, w2])\n",
        "l_r=0.5\n"
      ],
      "metadata": {
        "id": "riRZ8cmF3xJa"
      },
      "execution_count": null,
      "outputs": []
    },
    {
      "cell_type": "code",
      "source": [
        "def activation_function(z):\n",
        "   if z >=0:\n",
        "      return 1\n",
        "   else:\n",
        "      return 0\n",
        "\n",
        "def perceptron(x, y, w, l_r):\n",
        "     w0, w1, w2,= w\n",
        "\n",
        "     y_pred = np.zeros(len(y))\n",
        "\n",
        "     while not np.array_equal(y_pred, y):\n",
        "          cp = 0\n",
        "\n",
        "          for i in range(len(x)):\n",
        "              z = (w0 * x0) + (w1 * x[i][0]) + (w2 * x[i][1])\n",
        "              y_pred[i] = activation_function(z)\n",
        "\n",
        "              if y_pred[i] != y[i]:\n",
        "                w0 = w0 + l_r * (y[i] - y_pred[i]) * x0\n",
        "                w1 = w1 + l_r * (y[i] - y_pred[i]) * x[i][0]\n",
        "                w2 = w2 + l_r * (y[i] - y_pred[i]) * x[i][1]\n",
        "              else:\n",
        "                cp += 1\n",
        "     return np.array([w0, w1, w2])"
      ],
      "metadata": {
        "id": "hTffYopc6hoe"
      },
      "execution_count": null,
      "outputs": []
    },
    {
      "cell_type": "code",
      "source": [
        "result = perceptron(x, y, w, l_r)\n",
        "\n",
        "print(\"\\nFinal weights:\", result)"
      ],
      "metadata": {
        "colab": {
          "base_uri": "https://localhost:8080/"
        },
        "id": "_rwFTqOo8-tl",
        "outputId": "7dfe9f36-bad9-4f9c-c8ef-54ed95353cf9"
      },
      "execution_count": null,
      "outputs": [
        {
          "output_type": "stream",
          "name": "stdout",
          "text": [
            "\n",
            "Final weights: [-0.5   1.15  0.55]\n"
          ]
        }
      ]
    }
  ]
}