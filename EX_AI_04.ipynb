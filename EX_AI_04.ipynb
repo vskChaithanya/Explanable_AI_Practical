{
  "nbformat": 4,
  "nbformat_minor": 0,
  "metadata": {
    "colab": {
      "provenance": [],
      "authorship_tag": "ABX9TyP2qPYBvKhhND22Fi6JqtKY",
      "include_colab_link": true
    },
    "kernelspec": {
      "name": "python3",
      "display_name": "Python 3"
    },
    "language_info": {
      "name": "python"
    }
  },
  "cells": [
    {
      "cell_type": "markdown",
      "metadata": {
        "id": "view-in-github",
        "colab_type": "text"
      },
      "source": [
        "<a href=\"https://colab.research.google.com/github/vskChaithanya/Explanable_AI_Practical/blob/main/EX_AI_04.ipynb\" target=\"_parent\"><img src=\"https://colab.research.google.com/assets/colab-badge.svg\" alt=\"Open In Colab\"/></a>"
      ]
    },
    {
      "cell_type": "code",
      "execution_count": 1,
      "metadata": {
        "id": "LPfp5GZ04P3G"
      },
      "outputs": [],
      "source": [
        "import pandas as pd\n",
        "import numpy as np\n",
        "from sklearn.linear_model import LogisticRegression\n",
        "from sklearn.metrics import accuracy_score"
      ]
    },
    {
      "cell_type": "code",
      "source": [
        "data = pd.DataFrame({ \"X1\": [18, 19, 20, 21,22], \"X2\": [2, 5, 6, 8, 1], \"y\": [0, 1, 1, 1, 0]})\n",
        "X= data[[\"X1\", \"X2\"]]\n",
        "y = data[\"y\"]"
      ],
      "metadata": {
        "id": "UJ9O9ndu7UHd"
      },
      "execution_count": 3,
      "outputs": []
    },
    {
      "cell_type": "code",
      "source": [
        "log_reg=LogisticRegression(solver=\"liblinear\")\n",
        "log_reg.fit(X,y)\n",
        "R=log_reg.decision_function(X)\n",
        "Prob=1/(1+np.exp(-R))\n",
        "Pred=(Prob >= 0.5).astype(int)\n",
        "orig_acc=accuracy_score(y,Pred)\n",
        "print(R)\n",
        "print(\"Prob = \",Prob)\n",
        "print(\"Pred = \",Pred)\n",
        "print(\"Orig_acc = \",orig_acc)"
      ],
      "metadata": {
        "colab": {
          "base_uri": "https://localhost:8080/"
        },
        "id": "Vrod48Cl5U82",
        "outputId": "88c0c3e7-eeb0-4876-80cd-469246494cab"
      },
      "execution_count": 4,
      "outputs": [
        {
          "output_type": "stream",
          "name": "stdout",
          "text": [
            "[-1.17132894  1.56991417  2.3690478   4.13923617 -2.83006816]\n",
            "Prob =  [0.23661486 0.82777137 0.91443639 0.98431492 0.05572081]\n",
            "Pred =  [0 1 1 1 0]\n",
            "Orig_acc =  1.0\n"
          ]
        }
      ]
    },
    {
      "cell_type": "code",
      "source": [
        "data1 = pd.DataFrame({ \"X1\": [18, 19, 20, 21,22], \"X2\": [1, 8, 6, 5, 2], \"y\": [0, 1, 1, 1, 0]})\n",
        "X= data[[\"X1\", \"X2\"]]\n",
        "y = data[\"y\"]"
      ],
      "metadata": {
        "id": "VQYNpFCw6qXD"
      },
      "execution_count": 5,
      "outputs": []
    },
    {
      "cell_type": "code",
      "source": [
        "log_reg=LogisticRegression(solver=\"liblinear\")\n",
        "log_reg.fit(X,y)\n",
        "R=log_reg.decision_function(X)\n",
        "Prob=1/(1+np.exp(-R))\n",
        "Pred=(Prob >= 0.5).astype(int)\n",
        "orig_acc=accuracy_score(y,Pred)\n",
        "print(R)\n",
        "print(\"Prob = \",Prob)\n",
        "print(\"Pred = \",Pred)\n",
        "print(\"Orig_acc = \",orig_acc)"
      ],
      "metadata": {
        "colab": {
          "base_uri": "https://localhost:8080/"
        },
        "id": "R1IVtQqO7cnG",
        "outputId": "69d7acfd-0a80-4ef6-ede5-88a0f8afd981"
      },
      "execution_count": 6,
      "outputs": [
        {
          "output_type": "stream",
          "name": "stdout",
          "text": [
            "[-1.17132894  1.56991417  2.3690478   4.13923617 -2.83006816]\n",
            "Prob =  [0.23661486 0.82777137 0.91443639 0.98431492 0.05572081]\n",
            "Pred =  [0 1 1 1 0]\n",
            "Orig_acc =  1.0\n"
          ]
        }
      ]
    },
    {
      "cell_type": "code",
      "source": [],
      "metadata": {
        "id": "oYCO0-oO7c4P"
      },
      "execution_count": null,
      "outputs": []
    }
  ]
}